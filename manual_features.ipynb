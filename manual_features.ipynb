{
 "cells": [
  {
   "cell_type": "code",
   "execution_count": 1,
   "id": "4ce14864-a51b-4cd9-9465-e86be9c31978",
   "metadata": {},
   "outputs": [],
   "source": [
    "from pathlib import Path\n",
    "\n",
    "import pandas as pd\n",
    "import numpy as np\n",
    "import scipy as sp\n",
    "import implicit\n",
    "import bisect\n",
    "\n",
    "import feature_utils"
   ]
  },
  {
   "cell_type": "code",
   "execution_count": 2,
   "id": "cb5e9a79-66e8-4046-9e41-32ed26230f7b",
   "metadata": {},
   "outputs": [],
   "source": [
    "data_root = Path('data/')\n",
    "converted_data_path = data_root / 'data_converted'\n",
    "features_dir = Path('user_features/')\n",
    "features_root = Path('feature_transformers/')"
   ]
  },
  {
   "cell_type": "code",
   "execution_count": 3,
   "id": "5131b0b8-3914-463b-ba5a-edca9a9f6c7f",
   "metadata": {},
   "outputs": [],
   "source": [
    "CAT_FEATURES = [\n",
    "    'region_name', 'city_name', 'cpe_manufacturer_name', 'cpe_model_name', 'url_host', \n",
    "    'cpe_type_cd', 'cpe_model_os_type', 'part_of_day'\n",
    "]"
   ]
  },
  {
   "cell_type": "code",
   "execution_count": 4,
   "id": "b8fa63f3-a307-4ab8-a5d7-dc9f41405832",
   "metadata": {},
   "outputs": [],
   "source": [
    "n_urls = 199683\n",
    "n_users = 415317"
   ]
  },
  {
   "cell_type": "code",
   "execution_count": 5,
   "id": "64ca9a81-0ece-409c-bf53-ee22cd5c62c8",
   "metadata": {},
   "outputs": [],
   "source": [
    "# Loading\n",
    "cat_feature_enumerators = {\n",
    "    fn: feature_utils.CatNumerator.load((features_root / fn).with_suffix('.json')) \n",
    "    for fn in CAT_FEATURES\n",
    "}\n",
    "price_scaler = feature_utils.ZeroOneScaler.load(features_root / 'price.json')"
   ]
  },
  {
   "cell_type": "code",
   "execution_count": 6,
   "id": "7f1df630-3678-4d1d-91e2-96af15dbed0c",
   "metadata": {},
   "outputs": [
    {
     "data": {
      "text/plain": [
       "<module 'feature_utils' from '/home/andy/mts_2023/feature_utils.py'>"
      ]
     },
     "execution_count": 6,
     "metadata": {},
     "output_type": "execute_result"
    }
   ],
   "source": [
    "from importlib import reload\n",
    "reload(feature_utils)"
   ]
  },
  {
   "cell_type": "markdown",
   "id": "d34e5fd0-e056-4f21-ac4d-e14a229e100a",
   "metadata": {},
   "source": [
    "# Categorical statistics"
   ]
  },
  {
   "cell_type": "code",
   "execution_count": 6,
   "id": "5a4cb39f-dd01-4920-abcf-0fc7a24db5e4",
   "metadata": {},
   "outputs": [],
   "source": [
    "stat_features = ['region_name', 'city_name', 'cpe_manufacturer_name', 'cpe_model_name', 'cpe_type_cd']"
   ]
  },
  {
   "cell_type": "code",
   "execution_count": 55,
   "id": "6ca2ad58-b8e7-4f7c-ac31-5313a667620e",
   "metadata": {},
   "outputs": [],
   "source": [
    "stat_calculators = {fn: feature_utils.CatStatSummarizer(n_users, len(cat_feature_enumerators[fn])) for fn in stat_features}\n",
    "\n",
    "for part in feature_utils.read_dir(converted_data_path):\n",
    "    request_cnts = part['request_cnt'].values\n",
    "    user_ids = part['user_id'].values\n",
    "    for fn, fc in stat_calculators.items():\n",
    "        fc.update(user_ids, part[fn].values, request_cnts)"
   ]
  },
  {
   "cell_type": "code",
   "execution_count": 58,
   "id": "4f3b45cb-ef1e-465c-97d1-858722a11c0e",
   "metadata": {},
   "outputs": [],
   "source": [
    "for fn, fc in stat_calculators.items():\n",
    "    np.savez(features_dir / f'{fn}.npz', top=fc.get_top_cats(), numb=fc.get_cat_numbs())"
   ]
  },
  {
   "cell_type": "code",
   "execution_count": 7,
   "id": "5d8bb252-984e-42e8-bc03-5e950cfba8c1",
   "metadata": {},
   "outputs": [],
   "source": [
    "cat_stats = {fn: np.load(features_dir / f'{fn}.npz') for fn in stat_features}"
   ]
  },
  {
   "cell_type": "markdown",
   "id": "42a06b69-c1ab-49b1-9858-b71f4b0893fc",
   "metadata": {},
   "source": [
    "# Mean targets"
   ]
  },
  {
   "cell_type": "code",
   "execution_count": 12,
   "id": "ea28ffff-3b8c-4b48-9410-e2a9ab17a713",
   "metadata": {},
   "outputs": [],
   "source": [
    "users_gt = pd.read_parquet(data_root / 'public_train.pqt')\n",
    "\n",
    "user_genders = np.full(n_users, -1.)\n",
    "user_ages = np.full(n_users, -1.)\n",
    "\n",
    "gender_mask = ~users_gt['is_male'].isna() & (users_gt['is_male'] != 'NA')\n",
    "user_genders[users_gt['user_id'][gender_mask]] = users_gt['is_male'][gender_mask].astype(np.int32)\n",
    "\n",
    "age_mask = ~users_gt['age'].isna()\n",
    "user_ages[users_gt['user_id'][age_mask]] = users_gt['age'][age_mask].astype(np.int32)"
   ]
  },
  {
   "cell_type": "code",
   "execution_count": 19,
   "id": "e2867fdd-d531-409f-a63b-3d5448ebfa98",
   "metadata": {},
   "outputs": [],
   "source": [
    "cat_features = ['region_name', 'city_name', 'cpe_manufacturer_name', 'cpe_model_name', 'cpe_type_cd']\n",
    "user_cats = {\n",
    "    fn: np.load(features_dir / f'{fn}.npz')['top']\n",
    "    for fn in cat_features\n",
    "}"
   ]
  },
  {
   "cell_type": "code",
   "execution_count": 17,
   "id": "3a10ba28-3035-4992-adcc-120d00c74c57",
   "metadata": {},
   "outputs": [
    {
     "data": {
      "text/plain": [
       "(0.5119889974594116, 38.78977329545665)"
      ]
     },
     "execution_count": 17,
     "metadata": {},
     "output_type": "execute_result"
    }
   ],
   "source": [
    "global_mean_gender = users_gt['is_male'][gender_mask].astype(np.float32).mean()\n",
    "global_mean_age = users_gt['age'].mean()\n",
    "global_mean_gender, global_mean_age"
   ]
  },
  {
   "cell_type": "code",
   "execution_count": 41,
   "id": "e93c17f7-9959-4007-bd2d-232c2ff95079",
   "metadata": {},
   "outputs": [
    {
     "data": {
      "application/vnd.jupyter.widget-view+json": {
       "model_id": "9bf8b307d8e54c85a72e4b994f0ec3ee",
       "version_major": 2,
       "version_minor": 0
      },
      "text/plain": [
       "  0%|          | 0/10 [00:00<?, ?it/s]"
      ]
     },
     "metadata": {},
     "output_type": "display_data"
    }
   ],
   "source": [
    "SMOOTHING_WEIGHT = 16\n",
    "\n",
    "cat_mean_genders = {\n",
    "    fn: feature_utils.KeyedMeanCalculator(\n",
    "        sums = np.full(ucs.max() + 1, SMOOTHING_WEIGHT * global_mean_gender, np.float32),\n",
    "        counters=np.full(ucs.max() + 1, SMOOTHING_WEIGHT, np.int32)\n",
    "    )\n",
    "    for fn, ucs in user_cats.items()\n",
    "}\n",
    "cat_mean_ages = {\n",
    "    fn: feature_utils.KeyedMeanCalculator(\n",
    "        sums = np.full(ucs.max() + 1, SMOOTHING_WEIGHT * global_mean_age, np.float32),\n",
    "        counters=np.full(ucs.max() + 1, SMOOTHING_WEIGHT, np.int32)\n",
    "    )\n",
    "    for fn, ucs in user_cats.items()\n",
    "}\n",
    "user_age_contributions = np.zeros(n_users, np.int32)\n",
    "user_gender_contributions = np.zeros(n_users, np.int32)\n",
    "\n",
    "for part in feature_utils.read_dir(converted_data_path):\n",
    "    part_users = part['user_id'].values\n",
    "    part_genders = user_genders[part_users]\n",
    "    part_gender_mask = part_genders >= 0\n",
    "    part_ages = user_ages[part_users]\n",
    "    part_age_mask = part_ages >= 0\n",
    "    part_request_cnts = part['request_cnt'].values\n",
    "    \n",
    "    np.add.at(user_gender_contributions, part_users[part_gender_mask], part_request_cnts[part_gender_mask])\n",
    "    np.add.at(user_age_contributions, part_users[part_age_mask], part_request_cnts[part_age_mask])\n",
    "    \n",
    "    for fn in cat_features:\n",
    "        feature_values = user_cats[fn][part_users]\n",
    "        cat_mean_genders[fn].update(\n",
    "            feature_values[part_gender_mask], \n",
    "            part_genders[part_gender_mask], \n",
    "            part_request_cnts[part_gender_mask]\n",
    "        )\n",
    "        cat_mean_ages[fn].update(\n",
    "            feature_values[part_age_mask], \n",
    "            part_ages[part_age_mask], \n",
    "            part_request_cnts[part_age_mask]\n",
    "        )"
   ]
  },
  {
   "cell_type": "code",
   "execution_count": 46,
   "id": "50b6bd29-d122-4efc-8cee-7e94e7cc5b31",
   "metadata": {},
   "outputs": [],
   "source": [
    "for fn in cat_features:\n",
    "    cat_mean_gender = cat_mean_genders[fn].get(\n",
    "        user_cats[fn], vals_to_exclude=np.maximum(user_genders, 0), multipliers_to_exclude=user_gender_contributions)\n",
    "    cat_mean_age = cat_mean_ages[fn].get(\n",
    "        user_cats[fn], vals_to_exclude=np.maximum(user_ages, 0), multipliers_to_exclude=user_age_contributions)\n",
    "    np.save(features_dir / f'{fn}_mean_gender.npy', cat_mean_gender)\n",
    "    np.save(features_dir / f'{fn}_mean_age.npy', cat_mean_age)"
   ]
  },
  {
   "cell_type": "markdown",
   "id": "e240cc93-bc0c-4476-a75d-38f202966781",
   "metadata": {},
   "source": [
    "# URL mean targets"
   ]
  },
  {
   "cell_type": "code",
   "execution_count": 14,
   "id": "d25e684f-f834-406b-a2cc-a11d1459da6a",
   "metadata": {},
   "outputs": [],
   "source": [
    "mean_gender_calculator = feature_utils.KeyedMeanCalculator(n_urls)\n",
    "mean_age_calculator = feature_utils.KeyedMeanCalculator(n_urls)\n",
    "\n",
    "for part in feature_utils.read_dir(converted_data_path):\n",
    "    part_genders = user_genders[part['user_id'].values]\n",
    "    part_gender_mask = part_genders >= 0\n",
    "    mean_gender_calculator.update(\n",
    "        part['url_host'][part_gender_mask].values, \n",
    "        part_genders[part_gender_mask], \n",
    "        part['request_cnt'][part_gender_mask].values\n",
    "    )\n",
    "    \n",
    "    part_ages = user_ages[part['user_id'].values]\n",
    "    part_age_mask = part_ages >= 0\n",
    "    mean_age_calculator.update(\n",
    "        part['url_host'][part_age_mask].values, \n",
    "        part_ages[part_age_mask], \n",
    "        part['request_cnt'][part_age_mask].values\n",
    "    )"
   ]
  },
  {
   "cell_type": "code",
   "execution_count": 15,
   "id": "e01fa1a2-68cc-4d30-8626-965579924105",
   "metadata": {},
   "outputs": [
    {
     "data": {
      "application/vnd.jupyter.widget-view+json": {
       "model_id": "",
       "version_major": 2,
       "version_minor": 0
      },
      "text/plain": [
       "  0%|          | 0/10 [00:00<?, ?it/s]"
      ]
     },
     "metadata": {},
     "output_type": "display_data"
    }
   ],
   "source": [
    "interaction_counters = sp.sparse.coo_matrix((n_users, n_urls), dtype=np.int64)\n",
    "\n",
    "for part in feature_utils.read_dir(converted_data_path):\n",
    "    interaction_counters += sp.sparse.coo_matrix(\n",
    "        (part['request_cnt'], (part['user_id'], part['url_host'])),\n",
    "        shape=(n_users, n_urls)\n",
    "    )"
   ]
  },
  {
   "cell_type": "markdown",
   "id": "adea06a9-02e5-4a31-ac04-e1d2186a175a",
   "metadata": {},
   "source": [
    "## For users"
   ]
  },
  {
   "cell_type": "code",
   "execution_count": 12,
   "id": "1da4bef4-de03-49b3-867d-36b8bfa5578a",
   "metadata": {},
   "outputs": [
    {
     "data": {
      "application/vnd.jupyter.widget-view+json": {
       "model_id": "05423eb0a0724df4a335ef8fad651de2",
       "version_major": 2,
       "version_minor": 0
      },
      "text/plain": [
       "  0%|          | 0/10 [00:00<?, ?it/s]"
      ]
     },
     "metadata": {},
     "output_type": "display_data"
    }
   ],
   "source": [
    "mean_mean_genders_calculator = feature_utils.KeyedMeanCalculator(n_users)\n",
    "mean_mean_ages_calculator = feature_utils.KeyedMeanCalculator(n_users)\n",
    "\n",
    "for part in feature_utils.read_dir(converted_data_path):\n",
    "    global_interactions = interaction_counters[part['user_id'], part['url_host']].A.ravel()\n",
    "    \n",
    "    part_ages = user_ages[part['user_id'].values]\n",
    "    valid_age_mask = part_ages >= 0\n",
    "    age_contributions = np.maximum(0, part_ages)\n",
    "    url_mean_ages = mean_age_calculator.get(\n",
    "        part['url_host'], \n",
    "        vals_to_exclude=age_contributions * valid_age_mask, multipliers_to_exclude=global_interactions * valid_age_mask, \n",
    "        default=-1\n",
    "    )\n",
    "    valid_age_mask = url_mean_ages >= 0\n",
    "    mean_mean_ages_calculator.update(\n",
    "        part['user_id'][valid_age_mask], url_mean_ages[valid_age_mask], \n",
    "        global_interactions[valid_age_mask]\n",
    "    )\n",
    "    \n",
    "    part_genders = user_genders[part['user_id'].values]\n",
    "    valid_gender_mask = part_genders >= 0\n",
    "    gender_contributions = np.maximum(0, part_genders)\n",
    "    url_mean_genders = mean_gender_calculator.get(\n",
    "        part['url_host'], \n",
    "        vals_to_exclude=gender_contributions * valid_gender_mask, multipliers_to_exclude=global_interactions * valid_gender_mask, \n",
    "        default=-1\n",
    "    )\n",
    "    valid_gender_mask = url_mean_genders >= 0\n",
    "    mean_mean_genders_calculator.update(\n",
    "        part['user_id'][valid_gender_mask], url_mean_genders[valid_gender_mask], \n",
    "        global_interactions[valid_gender_mask]\n",
    "    )"
   ]
  },
  {
   "cell_type": "code",
   "execution_count": 53,
   "id": "cd97991e-ee21-4eb5-8533-af5ce746836a",
   "metadata": {},
   "outputs": [],
   "source": [
    "mean_mean_ages_calculator.save(features_dir / 'interpolated_age')\n",
    "mean_mean_genders_calculator.save(features_dir / 'interpolated_gender')"
   ]
  },
  {
   "cell_type": "markdown",
   "id": "9f4a69fd-8af5-44e6-a048-e8283db6ce82",
   "metadata": {},
   "source": [
    "## For interactions\n",
    "Per URL mean target with corrections on seen users to mitigate overfitting"
   ]
  },
  {
   "cell_type": "code",
   "execution_count": 18,
   "id": "e02550f2-6e13-46c3-af56-b2680163b26c",
   "metadata": {},
   "outputs": [],
   "source": [
    "interactions_counters_file = np.load('interactions/interactions_with_counters.npz', allow_pickle=True)\n",
    "interactions_sets = interactions_counters_file['unique_urls']\n",
    "interactions_counters = interactions_counters_file['interaction_counters']"
   ]
  },
  {
   "cell_type": "code",
   "execution_count": 43,
   "id": "f08af2ce-19f0-41bb-a0fa-783f691871d5",
   "metadata": {},
   "outputs": [],
   "source": [
    "interactions_mean_ages, interactions_mean_genders = [], []\n",
    "for u, (int_set, int_counters) in enumerate(zip(interactions_sets, interactions_counters)):\n",
    "    if user_ages[u] < 0:\n",
    "        hist_mean_ages = mean_age_calculator.get(int_set)\n",
    "    else:\n",
    "        hist_mean_ages = mean_age_calculator.get(\n",
    "            int_set, vals_to_exclude=user_ages[u], multipliers_to_exclude=int_counters)\n",
    "    interactions_mean_ages.append(hist_mean_ages)\n",
    "    \n",
    "    if user_genders[u] < 0:\n",
    "        hist_mean_genders = mean_gender_calculator.get(int_set)\n",
    "    else:\n",
    "        hist_mean_genders = mean_gender_calculator.get(\n",
    "            int_set, vals_to_exclude=user_genders[u], multipliers_to_exclude=int_counters)\n",
    "    interactions_mean_genders.append(hist_mean_genders)\n",
    "\n",
    "interactions_mean_ages = np.array(interactions_mean_ages, dtype=object)\n",
    "interactions_mean_genders = np.array(interactions_mean_genders, dtype=object)"
   ]
  },
  {
   "cell_type": "code",
   "execution_count": 44,
   "id": "bd5197b5-281d-4e9e-a0bd-b97628773746",
   "metadata": {},
   "outputs": [],
   "source": [
    "np.save('interactions/url_mean_ages.npy', interactions_mean_ages)\n",
    "np.save('interactions/url_mean_genders.npy', interactions_mean_genders)"
   ]
  },
  {
   "cell_type": "markdown",
   "id": "8a31dff4-d9ef-4dbb-beb4-ec9d35f07400",
   "metadata": {},
   "source": [
    "# Per user counters"
   ]
  },
  {
   "cell_type": "code",
   "execution_count": 90,
   "id": "5ab8358d-c9cf-471d-bbe1-5c6b990e032c",
   "metadata": {},
   "outputs": [
    {
     "data": {
      "application/vnd.jupyter.widget-view+json": {
       "model_id": "6bbdc219bc5f407583c32ac9cfadff7f",
       "version_major": 2,
       "version_minor": 0
      },
      "text/plain": [
       "  0%|          | 0/10 [00:00<?, ?it/s]"
      ]
     },
     "metadata": {},
     "output_type": "display_data"
    }
   ],
   "source": [
    "users_request_counters = np.zeros(n_users, np.int64)\n",
    "users_session_counters = np.zeros(n_users, np.int64)\n",
    "\n",
    "for part in feature_utils.read_dir(converted_data_path):\n",
    "    np.add.at(users_request_counters, part['user_id'].values, part['request_cnt'].values)\n",
    "    np.add.at(users_session_counters, part['user_id'].values, 1)"
   ]
  },
  {
   "cell_type": "code",
   "execution_count": 91,
   "id": "2b054644-0aec-4aae-af2a-848e94c3d0c7",
   "metadata": {},
   "outputs": [],
   "source": [
    "np.save(features_dir / 'total_requests.npy', users_request_counters)\n",
    "np.save(features_dir / 'sessions_number.npy', users_session_counters)"
   ]
  },
  {
   "cell_type": "markdown",
   "id": "f7c08717-8361-4c2f-8c59-d89c9a563b12",
   "metadata": {},
   "source": [
    "# Per user averages"
   ]
  },
  {
   "cell_type": "code",
   "execution_count": 12,
   "id": "9a23d53c-a106-4c7b-b885-c57e8bf7b6dc",
   "metadata": {},
   "outputs": [],
   "source": [
    "manufacturers_short = [c.split(' ')[0] for c in cat_feature_enumerators['cpe_manufacturer_name'].cats]\n",
    "manufacturers_renumeration = np.arange(len(manufacturers_short))\n",
    "for i, mn in enumerate(manufacturers_short):\n",
    "    if mn in manufacturers_short[:i]:\n",
    "        manufacturers_renumeration[i] = manufacturers_short.index(mn, 0, i)"
   ]
  },
  {
   "cell_type": "code",
   "execution_count": 14,
   "id": "1fabdc2d-2518-4407-b5ef-5a91d2296008",
   "metadata": {},
   "outputs": [],
   "source": [
    "np.save(features_dir / 'manufacturers_renumeration.npy', manufacturers_renumeration)"
   ]
  },
  {
   "cell_type": "code",
   "execution_count": 42,
   "id": "d17e181d-567e-457c-a120-acb594d2119d",
   "metadata": {},
   "outputs": [
    {
     "data": {
      "application/vnd.jupyter.widget-view+json": {
       "model_id": "097330e9e377432f813686f47d692381",
       "version_major": 2,
       "version_minor": 0
      },
      "text/plain": [
       "  0%|          | 0/10 [00:00<?, ?it/s]"
      ]
     },
     "metadata": {},
     "output_type": "display_data"
    }
   ],
   "source": [
    "N_POD, N_POW = 4, 7\n",
    "user_price_mean_calc = feature_utils.KeyedMeanCalculator(n_users)\n",
    "model_price_mean_calc = feature_utils.KeyedMeanCalculator(len(cat_feature_enumerators['cpe_model_name']))\n",
    "manufacturer_price_mean_calc = feature_utils.KeyedMeanCalculator(len(cat_feature_enumerators['cpe_manufacturer_name']))\n",
    "rps_mean_calc = feature_utils.KeyedMeanCalculator(n_users)\n",
    "parts_of_day_mean_calcs = {i: feature_utils.KeyedMeanCalculator(n_users) for i in range(N_POD)}\n",
    "parts_of_week_mean_calcs = {i: feature_utils.KeyedMeanCalculator(n_users) for i in range(N_POW)}\n",
    "\n",
    "for part in feature_utils.read_dir(converted_data_path):\n",
    "    user_ids = part['user_id'].values\n",
    "    prices = part['price'].values\n",
    "    prices_mask = ~np.isnan(prices)\n",
    "    prices = prices[prices_mask]\n",
    "    user_price_mean_calc.update(user_ids[prices_mask], prices)\n",
    "    model_price_mean_calc.update(part['cpe_model_name'].values[prices_mask], prices)\n",
    "    manufacturer_price_mean_calc.update(manufacturers_renumeration[part['cpe_manufacturer_name'].values[prices_mask]], prices)\n",
    "    rps_mean_calc.update(user_ids, part['request_cnt'].values)\n",
    "    for pod, calc in parts_of_day_mean_calcs.items():\n",
    "        calc.update(user_ids, part['part_of_day'].values == pod)\n",
    "    for pow_, calc in parts_of_week_mean_calcs.items():\n",
    "        calc.update(user_ids, part['date'].values % N_POW == pow_)"
   ]
  },
  {
   "cell_type": "code",
   "execution_count": 34,
   "id": "f64a08e1-4db2-41f3-ae74-c00729ef5af9",
   "metadata": {},
   "outputs": [],
   "source": [
    "user_price_mean_calc.save(features_dir / 'user_price_mean')\n",
    "model_price_mean_calc.save(features_dir / 'model_price_mean')\n",
    "manufacturer_price_mean_calc.save(features_dir / 'manufacturer_price_mean')\n",
    "rps_mean_calc.save(features_dir / 'rps_mean')\n",
    "\n",
    "for pod, calc in parts_of_day_mean_calcs.items():\n",
    "    calc.save(features_dir / f'part_of_day_{pod}')"
   ]
  },
  {
   "cell_type": "code",
   "execution_count": 44,
   "id": "dbe5b4d2-19eb-4b68-8106-41ec8f1ac4d6",
   "metadata": {},
   "outputs": [],
   "source": [
    "for pod, calc in parts_of_week_mean_calcs.items():\n",
    "    calc.save(features_dir / f'part_of_week_{pod}')"
   ]
  },
  {
   "cell_type": "code",
   "execution_count": 20,
   "id": "2d6aff72-5883-42c7-a264-bd33a78ecfa7",
   "metadata": {},
   "outputs": [],
   "source": [
    "user_price_mean_calc = feature_utils.KeyedMeanCalculator.load(features_dir / 'user_price_mean.npz')\n",
    "model_price_mean_calc = feature_utils.KeyedMeanCalculator.load(features_dir / 'model_price_mean.npz')"
   ]
  },
  {
   "cell_type": "code",
   "execution_count": 36,
   "id": "4654574c-46d1-4862-8cbc-710b6065a6e2",
   "metadata": {},
   "outputs": [],
   "source": [
    "user_ids = np.arange(n_users)"
   ]
  },
  {
   "cell_type": "code",
   "execution_count": 37,
   "id": "dfbbd99a-bb57-4215-a8f8-d370bde19520",
   "metadata": {},
   "outputs": [
    {
     "data": {
      "text/plain": [
       "0.02577067637491362"
      ]
     },
     "execution_count": 37,
     "metadata": {},
     "output_type": "execute_result"
    }
   ],
   "source": [
    "user_mean_prices = user_price_mean_calc.get(user_ids, default=-1)\n",
    "unk_mask = user_mean_prices == -1\n",
    "unk_mask.mean()"
   ]
  },
  {
   "cell_type": "code",
   "execution_count": 38,
   "id": "2587107e-0c10-4e95-b9de-1b7e200d06f0",
   "metadata": {},
   "outputs": [
    {
     "data": {
      "text/plain": [
       "0.014776664571881237"
      ]
     },
     "execution_count": 38,
     "metadata": {},
     "output_type": "execute_result"
    }
   ],
   "source": [
    "user_mean_prices[unk_mask] = model_price_mean_calc.get(cat_stats['cpe_model_name']['top'][user_ids[unk_mask]], default=-1)\n",
    "unk_mask = user_mean_prices == -1\n",
    "unk_mask.mean()"
   ]
  },
  {
   "cell_type": "code",
   "execution_count": 39,
   "id": "ca22ff66-ec2d-4627-b7b0-25d81197c0fd",
   "metadata": {},
   "outputs": [
    {
     "data": {
      "text/plain": [
       "0.0007512333952137764"
      ]
     },
     "execution_count": 39,
     "metadata": {},
     "output_type": "execute_result"
    }
   ],
   "source": [
    "user_mean_prices[unk_mask] = manufacturer_price_mean_calc.get(\n",
    "    manufacturers_renumeration[cat_stats['cpe_manufacturer_name']['top'][user_ids[unk_mask]]], \n",
    "    default=-1\n",
    ")\n",
    "unk_mask = user_mean_prices == -1\n",
    "unk_mask.mean()"
   ]
  },
  {
   "cell_type": "code",
   "execution_count": 40,
   "id": "8032e24f-5dcc-49b8-911d-f9b234ec6a64",
   "metadata": {},
   "outputs": [],
   "source": [
    "user_mean_prices[unk_mask] = manufacturer_price_mean_calc.get_global()"
   ]
  },
  {
   "cell_type": "code",
   "execution_count": 41,
   "id": "51c71486-3908-4252-993c-cfc76dfd3b6f",
   "metadata": {},
   "outputs": [],
   "source": [
    "np.save(features_dir / 'user_mean_prices.npy', user_mean_prices)"
   ]
  },
  {
   "cell_type": "markdown",
   "id": "4939765d-704e-4239-8b31-66214999e7ac",
   "metadata": {},
   "source": [
    "# Active days share"
   ]
  },
  {
   "cell_type": "code",
   "execution_count": 6,
   "id": "d45e15b5-57cf-49ed-a2ce-d28e31d25a43",
   "metadata": {},
   "outputs": [],
   "source": [
    "min_day, max_day = float('inf'), float('-inf')"
   ]
  },
  {
   "cell_type": "code",
   "execution_count": 7,
   "id": "3aaa2f1c-a095-4d56-8e7f-cd7b0cdf6fae",
   "metadata": {},
   "outputs": [
    {
     "data": {
      "application/vnd.jupyter.widget-view+json": {
       "model_id": "b8482eb938fc4983b8bdd6071a7bdc6e",
       "version_major": 2,
       "version_minor": 0
      },
      "text/plain": [
       "  0%|          | 0/10 [00:00<?, ?it/s]"
      ]
     },
     "metadata": {},
     "output_type": "display_data"
    }
   ],
   "source": [
    "for part in feature_utils.read_dir(converted_data_path):\n",
    "    min_day = min(min_day, part['date'].min())\n",
    "    max_day = max(max_day, part['date'].max())"
   ]
  },
  {
   "cell_type": "code",
   "execution_count": 8,
   "id": "9a0d1c71-ce9d-4a0f-841b-1ea5a935a59c",
   "metadata": {},
   "outputs": [],
   "source": [
    "n_days = max_day - min_day + 1"
   ]
  },
  {
   "cell_type": "code",
   "execution_count": 9,
   "id": "6ecd9608-a491-488e-9dcd-bc8d3355d01a",
   "metadata": {},
   "outputs": [],
   "source": [
    "activity_mask = np.zeros((n_users, n_days), dtype=bool)"
   ]
  },
  {
   "cell_type": "code",
   "execution_count": 10,
   "id": "a849ad93-e39e-4317-a7f0-7c5e6642b62a",
   "metadata": {},
   "outputs": [
    {
     "data": {
      "application/vnd.jupyter.widget-view+json": {
       "model_id": "b6b554c2cbdb47ee86765a130298ca74",
       "version_major": 2,
       "version_minor": 0
      },
      "text/plain": [
       "  0%|          | 0/10 [00:00<?, ?it/s]"
      ]
     },
     "metadata": {},
     "output_type": "display_data"
    }
   ],
   "source": [
    "for part in feature_utils.read_dir(converted_data_path):\n",
    "    activity_mask[part['user_id'], part['date'] - min_day] = True"
   ]
  },
  {
   "cell_type": "code",
   "execution_count": 11,
   "id": "a0a374fb-5530-498f-a3d2-29de212c3a60",
   "metadata": {},
   "outputs": [],
   "source": [
    "days_numbers = activity_mask * np.arange(1, n_days + 1).astype(np.short)"
   ]
  },
  {
   "cell_type": "code",
   "execution_count": 12,
   "id": "2c5f9ab7-e31a-4807-9b52-0a1196f3c12b",
   "metadata": {},
   "outputs": [],
   "source": [
    "last_active_days = days_numbers.max(axis=1)"
   ]
  },
  {
   "cell_type": "code",
   "execution_count": 13,
   "id": "50ec8e20-4d79-4402-a9fa-65371984f393",
   "metadata": {},
   "outputs": [],
   "source": [
    "first_active_days = (days_numbers + (n_days + 1) * ~activity_mask).min(axis=1)"
   ]
  },
  {
   "cell_type": "code",
   "execution_count": 14,
   "id": "6aa7280a-e199-4d8d-8e8f-dae11b5c6e36",
   "metadata": {},
   "outputs": [],
   "source": [
    "active_days_numbers = activity_mask.sum(axis=1)"
   ]
  },
  {
   "cell_type": "code",
   "execution_count": 19,
   "id": "c62a15b5-bf32-4354-9100-d7f11d93710b",
   "metadata": {},
   "outputs": [],
   "source": [
    "active_days_shares = active_days_numbers / (last_active_days - first_active_days + 1)"
   ]
  },
  {
   "cell_type": "code",
   "execution_count": 25,
   "id": "afbc1309-eef8-43ef-b94f-3581a450b28b",
   "metadata": {},
   "outputs": [],
   "source": [
    "np.save(features_dir / 'active_days_shares.npy', active_days_shares)"
   ]
  },
  {
   "cell_type": "markdown",
   "id": "2b6ea0c3-c322-4696-9425-12802a489a91",
   "metadata": {},
   "source": [
    "# Hosts stats"
   ]
  },
  {
   "cell_type": "code",
   "execution_count": 16,
   "id": "241ef66c-6dbe-4605-bd8b-797acee9785d",
   "metadata": {},
   "outputs": [],
   "source": [
    "seen_hosts = sp.sparse.lil_matrix((n_users, len(cat_feature_enumerators['url_host'])), dtype=bool)"
   ]
  },
  {
   "cell_type": "code",
   "execution_count": 17,
   "id": "09cae489-4aca-41aa-8625-2c70da85b9b3",
   "metadata": {},
   "outputs": [
    {
     "data": {
      "application/vnd.jupyter.widget-view+json": {
       "model_id": "2a6e9cc38cce4ee7b1d19cdbc8da94e2",
       "version_major": 2,
       "version_minor": 0
      },
      "text/plain": [
       "  0%|          | 0/10 [00:00<?, ?it/s]"
      ]
     },
     "metadata": {},
     "output_type": "display_data"
    }
   ],
   "source": [
    "for part in feature_utils.read_dir(converted_data_path):\n",
    "    seen_hosts[part['user_id'], part['url_host']] = True"
   ]
  },
  {
   "cell_type": "code",
   "execution_count": 18,
   "id": "2dd01716-4a42-42ca-912c-22639d96490a",
   "metadata": {},
   "outputs": [],
   "source": [
    "seen_hosts = seen_hosts.tocsr()"
   ]
  },
  {
   "cell_type": "code",
   "execution_count": 31,
   "id": "bdd22058-f490-4cfa-b8d2-401637306cbe",
   "metadata": {},
   "outputs": [],
   "source": [
    "visited_hosts_numbers = seen_hosts.sum(axis=1).A.ravel()"
   ]
  },
  {
   "cell_type": "code",
   "execution_count": 33,
   "id": "ec5f50bd-69a9-4d74-a600-3500b39392ed",
   "metadata": {},
   "outputs": [],
   "source": [
    "np.save(features_dir / 'visited_hosts_numbers.npy', visited_hosts_numbers)"
   ]
  },
  {
   "cell_type": "markdown",
   "id": "24553429-4140-4854-830e-1e3de10a35b1",
   "metadata": {},
   "source": [
    "# URL features"
   ]
  },
  {
   "cell_type": "code",
   "execution_count": 7,
   "id": "deb34108-93ef-48eb-83c2-72318d49a2f8",
   "metadata": {},
   "outputs": [
    {
     "data": {
      "application/vnd.jupyter.widget-view+json": {
       "model_id": "6a81e630603c4d139443996ca7568269",
       "version_major": 2,
       "version_minor": 0
      },
      "text/plain": [
       "  0%|          | 0/10 [00:00<?, ?it/s]"
      ]
     },
     "metadata": {},
     "output_type": "display_data"
    }
   ],
   "source": [
    "url_visit_counters = np.zeros(n_urls, np.int32)\n",
    "\n",
    "for part in feature_utils.read_dir(converted_data_path):\n",
    "    np.add.at(url_visit_counters, part['url_host'].values, 1)"
   ]
  },
  {
   "cell_type": "code",
   "execution_count": 11,
   "id": "24c110c5-f4c9-4cfd-bede-35ff692b98f8",
   "metadata": {},
   "outputs": [],
   "source": [
    "np.save('url_features/visit_counts.npy', url_visit_counters)"
   ]
  },
  {
   "cell_type": "code",
   "execution_count": 9,
   "id": "37fc3569-1e0d-4fb5-9a4f-c6af173e6f92",
   "metadata": {},
   "outputs": [],
   "source": [
    "url_visit_log_counters = np.log(url_visit_counters)"
   ]
  },
  {
   "cell_type": "code",
   "execution_count": 10,
   "id": "e0d93e1c-2f0f-4141-91bf-e285cccaf73e",
   "metadata": {},
   "outputs": [],
   "source": [
    "np.save('url_features/visit_log_counts.npy', url_visit_log_counters)"
   ]
  }
 ],
 "metadata": {
  "kernelspec": {
   "display_name": "Python 3 (ipykernel)",
   "language": "python",
   "name": "python3"
  },
  "language_info": {
   "codemirror_mode": {
    "name": "ipython",
    "version": 3
   },
   "file_extension": ".py",
   "mimetype": "text/x-python",
   "name": "python",
   "nbconvert_exporter": "python",
   "pygments_lexer": "ipython3",
   "version": "3.9.13"
  }
 },
 "nbformat": 4,
 "nbformat_minor": 5
}
