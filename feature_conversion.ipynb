{
 "cells": [
  {
   "cell_type": "code",
   "execution_count": 1,
   "id": "f38c7450-6a26-42f7-8de4-dd7c955a5f39",
   "metadata": {},
   "outputs": [],
   "source": [
    "from pathlib import Path\n",
    "\n",
    "from tqdm.auto import tqdm\n",
    "import pandas as pd\n",
    "import polars as pl \n",
    "import numpy as np\n",
    "import pyarrow.parquet as pq\n",
    "import scipy\n",
    "\n",
    "import feature_utils"
   ]
  },
  {
   "cell_type": "code",
   "execution_count": 36,
   "id": "783a713a-560e-43fb-9e2a-82356931cfda",
   "metadata": {},
   "outputs": [
    {
     "data": {
      "text/plain": [
       "<module 'feature_utils' from '/home/andy/mts_2023/feature_utils.py'>"
      ]
     },
     "execution_count": 36,
     "metadata": {},
     "output_type": "execute_result"
    }
   ],
   "source": [
    "from importlib import reload\n",
    "reload(feature_utils)"
   ]
  },
  {
   "cell_type": "code",
   "execution_count": 3,
   "id": "5ff887ac-b44e-4aa7-9540-11a7b21091eb",
   "metadata": {},
   "outputs": [],
   "source": [
    "LOCAL_DATA_ROOT = Path('data')\n",
    "SRC_DIR = LOCAL_DATA_ROOT / 'competition_data_final_pqt'\n",
    "TGT_DIR = LOCAL_DATA_ROOT / 'data_converted'"
   ]
  },
  {
   "cell_type": "code",
   "execution_count": 4,
   "id": "b10da5dd-77cb-4f86-a549-63acf72f3c00",
   "metadata": {},
   "outputs": [],
   "source": [
    "CAT_FEATURES = [\n",
    "    'region_name', 'city_name', 'cpe_manufacturer_name', 'cpe_model_name', 'url_host', \n",
    "    'cpe_type_cd', 'cpe_model_os_type', 'part_of_day'\n",
    "]"
   ]
  },
  {
   "cell_type": "code",
   "execution_count": 5,
   "id": "3382d5a8-7485-4e2a-b999-1952ce5bba20",
   "metadata": {},
   "outputs": [],
   "source": [
    "cat_feature_enumerators = {fn: feature_utils.CatNumerator() for fn in CAT_FEATURES}\n",
    "price_scaler = feature_utils.ZeroOneScaler()"
   ]
  },
  {
   "cell_type": "code",
   "execution_count": 6,
   "id": "a83471da-8dee-4e03-a4eb-2dd0b00ba0f7",
   "metadata": {},
   "outputs": [
    {
     "data": {
      "application/vnd.jupyter.widget-view+json": {
       "model_id": "b3a50a6377dd411ba34f2c5df0955e15",
       "version_major": 2,
       "version_minor": 0
      },
      "text/plain": [
       "  0%|          | 0/10 [00:00<?, ?it/s]"
      ]
     },
     "metadata": {},
     "output_type": "display_data"
    }
   ],
   "source": [
    "for part_path in tqdm(list(SRC_DIR.glob('*.parquet'))):\n",
    "    part = pd.read_parquet(part_path)\n",
    "    \n",
    "    for feature_name, feature_transformer in cat_feature_enumerators.items():\n",
    "        feature_transformer.update(part[feature_name].unique())\n",
    "    price_scaler.update(part['price'].unique())\n",
    "    del part"
   ]
  },
  {
   "cell_type": "code",
   "execution_count": 8,
   "id": "53a88797-91d5-47f7-9fa1-d5ec0d7b3a6b",
   "metadata": {},
   "outputs": [
    {
     "name": "stdout",
     "output_type": "stream",
     "text": [
      "region_name 81\n",
      "city_name 985\n",
      "cpe_manufacturer_name 37\n",
      "cpe_model_name 599\n",
      "url_host 199683\n",
      "cpe_type_cd 4\n",
      "cpe_model_os_type 3\n",
      "part_of_day 4\n"
     ]
    }
   ],
   "source": [
    "for n, t in cat_feature_enumerators.items():\n",
    "    print(f'{n} {len(t.cats)}')"
   ]
  },
  {
   "cell_type": "code",
   "execution_count": 20,
   "id": "d8ac75dc-e4e5-4c19-b024-837ec0ba387e",
   "metadata": {},
   "outputs": [],
   "source": [
    "features_root = Path('feature_transformers')"
   ]
  },
  {
   "cell_type": "code",
   "execution_count": 23,
   "id": "2ae34cb8-2a58-46d5-bbc7-9f009b091508",
   "metadata": {},
   "outputs": [],
   "source": [
    "# Saving, may overwrite!\n",
    "for feature_name, feature_transformer in cat_feature_enumerators.items():\n",
    "    feature_transformer.save((features_root / feature_name).with_suffix('.json'))\n",
    "\n",
    "price_scaler.save(features_root / 'price.json')"
   ]
  },
  {
   "cell_type": "code",
   "execution_count": 37,
   "id": "2bf8a759-132a-4264-b348-b3acf81a2efd",
   "metadata": {},
   "outputs": [],
   "source": [
    "# Loading\n",
    "cat_feature_enumerators = {\n",
    "    fn: feature_utils.CatNumerator.load((features_root / fn).with_suffix('.json')) \n",
    "    for fn in CAT_FEATURES\n",
    "}\n",
    "price_scaler = feature_utils.ZeroOneScaler.load(features_root / 'price.json')"
   ]
  },
  {
   "cell_type": "code",
   "execution_count": 18,
   "id": "b95ae5e8-b830-4882-b9c3-b2fb3dde4fcf",
   "metadata": {},
   "outputs": [],
   "source": [
    "feature_dtypes = {}\n",
    "for feature_name, feature_transformer in cat_feature_enumerators.items():\n",
    "    if len(feature_transformer) < 256:\n",
    "        feature_dtypes[feature_name] = np.uint8\n",
    "    elif len(feature_transformer) < 2 ** 16:\n",
    "        feature_dtypes[feature_name] = np.uint16\n",
    "    else:\n",
    "        feature_dtypes[feature_name] = np.uint32"
   ]
  },
  {
   "cell_type": "code",
   "execution_count": 19,
   "id": "956e2fe8-178c-4cc1-a084-261e78a57ee9",
   "metadata": {},
   "outputs": [
    {
     "data": {
      "text/plain": [
       "{'region_name': numpy.uint8,\n",
       " 'city_name': numpy.uint16,\n",
       " 'cpe_manufacturer_name': numpy.uint8,\n",
       " 'cpe_model_name': numpy.uint16,\n",
       " 'url_host': numpy.uint32,\n",
       " 'cpe_type_cd': numpy.uint8,\n",
       " 'cpe_model_os_type': numpy.uint8,\n",
       " 'part_of_day': numpy.uint8}"
      ]
     },
     "execution_count": 19,
     "metadata": {},
     "output_type": "execute_result"
    }
   ],
   "source": [
    "feature_dtypes"
   ]
  },
  {
   "cell_type": "code",
   "execution_count": 80,
   "id": "eadbcba9-e81e-4a00-8f2d-a49a94a45df1",
   "metadata": {},
   "outputs": [
    {
     "data": {
      "application/vnd.jupyter.widget-view+json": {
       "model_id": "1714088d429145c5bef05bf22db75fd3",
       "version_major": 2,
       "version_minor": 0
      },
      "text/plain": [
       "  0%|          | 0/10 [00:00<?, ?it/s]"
      ]
     },
     "metadata": {},
     "output_type": "display_data"
    }
   ],
   "source": [
    "%mkdir {TGT_DIR}\n",
    "for part_path in tqdm(list(SRC_DIR.glob('*.parquet'))):\n",
    "    part = pd.read_parquet(part_path)\n",
    "\n",
    "    for feature_name, feature_transformer in cat_feature_enumerators.items():\n",
    "        part[feature_name] = feature_transformer.transform(part[feature_name].values).astype(feature_dtypes[feature_name])\n",
    "\n",
    "    part['price'] = price_scaler.transform(part['price']).astype(np.float32)\n",
    "\n",
    "    part['date'] = part['date'].apply(lambda d: d.toordinal()).astype(np.uint32)\n",
    "\n",
    "    part['user_id'] = part['user_id'].astype(np.uint32)\n",
    "    part['request_cnt'] = part['request_cnt'].astype(np.uint32)\n",
    "\n",
    "    out_path = (TGT_DIR / part_path.stem).with_suffix('.parquet')\n",
    "    part.to_parquet(out_path, compression='brotli', index=False)"
   ]
  }
 ],
 "metadata": {
  "kernelspec": {
   "display_name": "Python 3 (ipykernel)",
   "language": "python",
   "name": "python3"
  },
  "language_info": {
   "codemirror_mode": {
    "name": "ipython",
    "version": 3
   },
   "file_extension": ".py",
   "mimetype": "text/x-python",
   "name": "python",
   "nbconvert_exporter": "python",
   "pygments_lexer": "ipython3",
   "version": "3.9.13"
  }
 },
 "nbformat": 4,
 "nbformat_minor": 5
}
